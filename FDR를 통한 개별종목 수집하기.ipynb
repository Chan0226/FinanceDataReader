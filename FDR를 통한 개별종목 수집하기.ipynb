{
 "cells": [
  {
   "cell_type": "markdown",
   "metadata": {
    "id": "JooJ7cGP5HMS"
   },
   "source": [
    "[![Open In Colab](https://colab.research.google.com/assets/colab-badge.svg)](https://colab.research.google.com/github/corazzon/finance-data-analysis/blob/main/3.1%20FinanceDataReader%EB%A5%BC%20%ED%86%B5%ED%95%9C%20%EA%B0%9C%EB%B3%84%EC%A2%85%EB%AA%A9%20%EC%88%98%EC%A7%91%ED%95%98%EA%B8%B0-output.ipynb)\n",
    "\n",
    "## 라이브러리 불러오기"
   ]
  },
  {
   "cell_type": "code",
   "execution_count": 1,
   "metadata": {
    "id": "0HuA8Gtr5HMT"
   },
   "outputs": [],
   "source": [
    "# 데이터 분석을 위해 pandas 불러오기\n",
    "import pandas as pd"
   ]
  },
  {
   "cell_type": "markdown",
   "metadata": {
    "id": "yx1gbnsI5HMQ"
   },
   "source": [
    "* [FinanceData/FinanceDataReader: Financial data reader](https://github.com/FinanceData/FinanceDataReader)\n",
    "* [FinanceDataReader 사용자 안내서 | FinanceData](https://financedata.github.io/posts/finance-data-reader-users-guide.html)"
   ]
  },
  {
   "cell_type": "code",
   "execution_count": 2,
   "metadata": {
    "id": "Szu-zewh5HMR"
   },
   "outputs": [],
   "source": [

    "# !pip install -U finance-datareader"
   ]
  },
  {
   "cell_type": "code",
   "execution_count": 3,
   "metadata": {
    "id": "RmRqR4HT5HMT"
   },
   "outputs": [],
   "source": [
    "# FinanceDataReader 를 fdr 별칭으로 가져오기\n",
    "import FinanceDataReader as fdr"
   ]
  },
  {
   "cell_type": "markdown",
   "metadata": {
    "id": "VNyU_0nM7gDr"
   },
   "source": [
    "## 개별 종목의 일별 시세 수집\n",
    "* 종목코드로 수집이 가능합니다.\n",
    "* 종목명을 찾아서 일별 시세를 수집해 주는 함수를 만들어 볼 예정입니다."
   ]
  },
  {
   "cell_type": "code",
   "execution_count": 35,
   "metadata": {
    "id": "-MWybAcD5HMT"
   },
   "outputs": [
    {
     "data": {
      "text/html": [
       "<div>\n",
       "<style scoped>\n",
       "    .dataframe tbody tr th:only-of-type {\n",
       "        vertical-align: middle;\n",
       "    }\n",
       "\n",
       "    .dataframe tbody tr th {\n",
       "        vertical-align: top;\n",
       "    }\n",
       "\n",
       "    .dataframe thead th {\n",
       "        text-align: right;\n",
       "    }\n",
       "</style>\n",
       "<table border=\"1\" class=\"dataframe\">\n",
       "  <thead>\n",
       "    <tr style=\"text-align: right;\">\n",
       "      <th></th>\n",
       "      <th>Open</th>\n",
       "      <th>High</th>\n",
       "      <th>Low</th>\n",
       "      <th>Close</th>\n",
       "      <th>Volume</th>\n",
       "      <th>Change</th>\n",
       "    </tr>\n",
       "    <tr>\n",
       "      <th>Date</th>\n",
       "      <th></th>\n",
       "      <th></th>\n",
       "      <th></th>\n",
       "      <th></th>\n",
       "      <th></th>\n",
       "      <th></th>\n",
       "    </tr>\n",
       "  </thead>\n",
       "  <tbody>\n",
       "    <tr>\n",
       "      <th>2017-01-02</th>\n",
       "      <td>15534</td>\n",
       "      <td>15574</td>\n",
       "      <td>15373</td>\n",
       "      <td>15394</td>\n",
       "      <td>143140</td>\n",
       "      <td>-0.003947</td>\n",
       "    </tr>\n",
       "    <tr>\n",
       "      <th>2017-01-03</th>\n",
       "      <td>15495</td>\n",
       "      <td>16057</td>\n",
       "      <td>15454</td>\n",
       "      <td>16057</td>\n",
       "      <td>445180</td>\n",
       "      <td>0.043069</td>\n",
       "    </tr>\n",
       "    <tr>\n",
       "      <th>2017-01-04</th>\n",
       "      <td>16137</td>\n",
       "      <td>17080</td>\n",
       "      <td>16117</td>\n",
       "      <td>16920</td>\n",
       "      <td>1224395</td>\n",
       "      <td>0.053746</td>\n",
       "    </tr>\n",
       "    <tr>\n",
       "      <th>2017-01-05</th>\n",
       "      <td>17060</td>\n",
       "      <td>17261</td>\n",
       "      <td>16860</td>\n",
       "      <td>16860</td>\n",
       "      <td>611713</td>\n",
       "      <td>-0.003546</td>\n",
       "    </tr>\n",
       "    <tr>\n",
       "      <th>2017-01-06</th>\n",
       "      <td>16940</td>\n",
       "      <td>16960</td>\n",
       "      <td>16498</td>\n",
       "      <td>16800</td>\n",
       "      <td>410880</td>\n",
       "      <td>-0.003559</td>\n",
       "    </tr>\n",
       "    <tr>\n",
       "      <th>...</th>\n",
       "      <td>...</td>\n",
       "      <td>...</td>\n",
       "      <td>...</td>\n",
       "      <td>...</td>\n",
       "      <td>...</td>\n",
       "      <td>...</td>\n",
       "    </tr>\n",
       "    <tr>\n",
       "      <th>2020-12-23</th>\n",
       "      <td>76471</td>\n",
       "      <td>77374</td>\n",
       "      <td>75669</td>\n",
       "      <td>75770</td>\n",
       "      <td>629952</td>\n",
       "      <td>0.003988</td>\n",
       "    </tr>\n",
       "    <tr>\n",
       "      <th>2020-12-24</th>\n",
       "      <td>75971</td>\n",
       "      <td>76272</td>\n",
       "      <td>74666</td>\n",
       "      <td>75068</td>\n",
       "      <td>465132</td>\n",
       "      <td>-0.009265</td>\n",
       "    </tr>\n",
       "    <tr>\n",
       "      <th>2020-12-28</th>\n",
       "      <td>75168</td>\n",
       "      <td>75670</td>\n",
       "      <td>74164</td>\n",
       "      <td>74867</td>\n",
       "      <td>646464</td>\n",
       "      <td>-0.002678</td>\n",
       "    </tr>\n",
       "    <tr>\n",
       "      <th>2020-12-29</th>\n",
       "      <td>76472</td>\n",
       "      <td>77375</td>\n",
       "      <td>75869</td>\n",
       "      <td>77175</td>\n",
       "      <td>857404</td>\n",
       "      <td>0.030828</td>\n",
       "    </tr>\n",
       "    <tr>\n",
       "      <th>2020-12-30</th>\n",
       "      <td>77175</td>\n",
       "      <td>79082</td>\n",
       "      <td>76974</td>\n",
       "      <td>78179</td>\n",
       "      <td>813142</td>\n",
       "      <td>0.013009</td>\n",
       "    </tr>\n",
       "  </tbody>\n",
       "</table>\n",
       "<p>981 rows × 6 columns</p>\n",
       "</div>"
      ],
      "text/plain": [
       "             Open   High    Low  Close   Volume    Change\n",
       "Date                                                     \n",
       "2017-01-02  15534  15574  15373  15394   143140 -0.003947\n",
       "2017-01-03  15495  16057  15454  16057   445180  0.043069\n",
       "2017-01-04  16137  17080  16117  16920  1224395  0.053746\n",
       "2017-01-05  17060  17261  16860  16860   611713 -0.003546\n",
       "2017-01-06  16940  16960  16498  16800   410880 -0.003559\n",
       "...           ...    ...    ...    ...      ...       ...\n",
       "2020-12-23  76471  77374  75669  75770   629952  0.003988\n",
       "2020-12-24  75971  76272  74666  75068   465132 -0.009265\n",
       "2020-12-28  75168  75670  74164  74867   646464 -0.002678\n",
       "2020-12-29  76472  77375  75869  77175   857404  0.030828\n",
       "2020-12-30  77175  79082  76974  78179   813142  0.013009\n",
       "\n",
       "[981 rows x 6 columns]"
      ]
     },
     "execution_count": 35,
     "metadata": {},
     "output_type": "execute_result"
    }
   ],
   "source": [
    "# 삼성전자, 2017년~현재 일별 시세 받아오기    => 수정종가로 증자할 때 하락한값을 자연스럽게 바꿔준다.\n",
    "# 삼성전자의 종목 번호 '005930'\n",
    "#  Symbol, start, end \n",
    "df = fdr.DataReader('035720', \"2017\", \"2021\")\n",
    "#df.head()\n",
    "df"
   ]
  },
  {
   "cell_type": "code",
   "execution_count": 36,
   "metadata": {},
   "outputs": [
    {
     "data": {
      "text/plain": [
       "<AxesSubplot:xlabel='Date'>"
      ]
     },
     "execution_count": 36,
     "metadata": {},
     "output_type": "execute_result"
    },
    {
     "data": {
      "image/png": "[encoded data removed]",
      "text/plain": [
       "<Figure size 432x288 with 1 Axes>"
      ]
     },
     "metadata": {
      "needs_background": "light"
     },
     "output_type": "display_data"
    }
   ],
   "source": [
    "df[\"Close\"].plot()"
   ]
  },
  {
   "cell_type": "markdown",
   "metadata": {
    "id": "h7T4gW_W-FmZ"
   },
   "source": [
    "## 상장종목 목록 가져오기"
   ]
  },
  {
   "cell_type": "code",
   "execution_count": 6,
   "metadata": {
    "id": "gWgVQdSx5HMT"
   },
   "outputs": [
    {
     "data": {
      "text/plain": [
       "(7122, 10)"
      ]
     },
     "execution_count": 6,
     "metadata": {},
     "output_type": "execute_result"
    }
   ],
   "source": [

    "df_krx = pd.read_csv(\"data/krx.csv\")\n",
    "df_krx.shape"
   ]
  },
  {
   "cell_type": "code",
   "execution_count": 7,
   "metadata": {
    "id": "muwUkDSF5HMT"
   },
   "outputs": [],
   "source": [

    "# df_krx = fdr.StockListing('KRX')"
   ]
  },
  {
   "cell_type": "markdown",
   "metadata": {
    "id": "hbBmLbpY7vKY"
   },
   "source": [
    "## 상장종목 목록 사용하기\n",
    "* 종목명과 심볼을 찾기 위해 상장종목 목록을 사용합니다."
   ]
  },
  {
   "cell_type": "code",
   "execution_count": 8,
   "metadata": {
    "id": "U0n_cZGA5HMT"
   },
   "outputs": [
    {
     "data": {
      "text/html": [
       "<div>\n",
       "<style scoped>\n",
       "    .dataframe tbody tr th:only-of-type {\n",
       "        vertical-align: middle;\n",
       "    }\n",
       "\n",
       "    .dataframe tbody tr th {\n",
       "        vertical-align: top;\n",
       "    }\n",
       "\n",
       "    .dataframe thead th {\n",
       "        text-align: right;\n",
       "    }\n",
       "</style>\n",
       "<table border=\"1\" class=\"dataframe\">\n",
       "  <thead>\n",
       "    <tr style=\"text-align: right;\">\n",
       "      <th></th>\n",
       "      <th>Symbol</th>\n",
       "      <th>Name</th>\n",
       "    </tr>\n",
       "  </thead>\n",
       "  <tbody>\n",
       "    <tr>\n",
       "      <th>0</th>\n",
       "      <td>060310</td>\n",
       "      <td>3S</td>\n",
       "    </tr>\n",
       "    <tr>\n",
       "      <th>1</th>\n",
       "      <td>095570</td>\n",
       "      <td>AJ네트웍스</td>\n",
       "    </tr>\n",
       "    <tr>\n",
       "      <th>2</th>\n",
       "      <td>006840</td>\n",
       "      <td>AK홀딩스</td>\n",
       "    </tr>\n",
       "    <tr>\n",
       "      <th>3</th>\n",
       "      <td>054620</td>\n",
       "      <td>APS홀딩스</td>\n",
       "    </tr>\n",
       "    <tr>\n",
       "      <th>4</th>\n",
       "      <td>265520</td>\n",
       "      <td>AP시스템</td>\n",
       "    </tr>\n",
       "  </tbody>\n",
       "</table>\n",
       "</div>"
      ],
      "text/plain": [
       "   Symbol    Name\n",
       "0  060310      3S\n",
       "1  095570  AJ네트웍스\n",
       "2  006840   AK홀딩스\n",
       "3  054620  APS홀딩스\n",
       "4  265520   AP시스템"
      ]
     },
     "execution_count": 8,
     "metadata": {},
     "output_type": "execute_result"
    }
   ],
   "source": [
    "# DataFrame 에 어떤 데이터가 들어있는 head()로 일부 데이터만 가져와 봅니다.\n",
    "df_krx[[\"Symbol\", \"Name\"]].head()"
   ]
  },
  {
   "cell_type": "markdown",
   "metadata": {},
   "source": [

   ]
  },
  {
   "cell_type": "code",
   "execution_count": 9,
   "metadata": {
    "id": "OJtBeoeo5HMT",
    "scrolled": true
   },
   "outputs": [
    {
     "data": {
      "text/plain": [
       "'352820'"
      ]
     },
     "execution_count": 9,
     "metadata": {},
     "output_type": "execute_result"
    }
   ],
   "source": [
    "# df_krx의 Name column 에서 '하이브'에 해당하는 row를 전부 가져오는데 Name column만 가져와\n",
    "# list 형태로 index 번호는 빼고 ['하이브'] 만 가져오게 되고 [0]을 통해 list에 있는 string만 가져오게 됩니다.\n",
    "# 하이브 (series) -> ['하이브'] (list) -> '하이브' (string)\n",
    "item_name = \"하이브\"\n",
    "df_krx.loc[df_krx[\"Name\"] == item_name, \"Symbol\"].tolist()[0]"
   ]
  },
  {
   "cell_type": "code",
   "execution_count": 10,
   "metadata": {
    "id": "2YfQlf9U5HMU"
   },
   "outputs": [
    {
     "data": {
      "text/plain": [
       "'352820'"
      ]
     },
     "execution_count": 10,
     "metadata": {},
     "output_type": "execute_result"
    }
   ],
   "source": [
    "# '히트'라는 이름을 가진 상장사가 있는지 확인해 보기\n",
    "df_krx.loc[df_krx[\"Name\"] == \"하이브\", \"Symbol\"].tolist()[0]"
   ]
  },
  {
   "cell_type": "markdown",
   "metadata": {},
   "source": [
    "### * 종목코드(ISIN코드)\n",
    "https://xassets.tistory.com/648"
   ]
  },
  {
   "cell_type": "markdown",
   "metadata": {
    "id": "vaM5_Hkd5HMU"
   },
   "source": [
    "## 종목명으로 종목 코드를 받아오는 함수 만들기"
   ]
  },
  {
   "cell_type": "code",
   "execution_count": 11,
   "metadata": {
    "id": "6EB27Rkx5HMU"
   },
   "outputs": [],
   "source": [
    "# 종목명으로 종목코드 받아오는 함수 만들기\n",
    "# df_krx의 Name column에서 같은 값이 있으면 \n",
    "# row의 Symbol column의 값을 list로 name_list에 저장하기\n",
    "# item_code_by_item_name 함수를 만듭니다.\n",
    "\n",
    "def item_code_by_item_name(item_name):\n",
    "    \"\"\"\n",
    "    종목명을 받아 종목코드를 찾아 반환하는 함수\n",
    "    \"\"\"\n",
    "    item_code_list = df_krx.loc[df_krx[\"Name\"] == item_name, \"Symbol\"].tolist()\n",
    "    if len(item_code_list) > 0:\n",
    "        item_code = item_code_list[0]\n",
    "        return item_code\n",
    "    else:\n",
    "        return False"
   ]
  },
  {
   "cell_type": "code",
   "execution_count": 34,
   "metadata": {},
   "outputs": [
    {
     "data": {
      "text/plain": [
       "'035720'"
      ]
     },
     "execution_count": 34,
     "metadata": {},
     "output_type": "execute_result"
    }
   ],
   "source": [
    "item_code_by_item_name(\"카카오\")"
   ]
  },
  {
   "cell_type": "code",
   "execution_count": 13,
   "metadata": {
    "id": "oMwl2Dzq5HMU"
   },
   "outputs": [
    {
     "data": {
      "text/plain": [
       "False"
      ]
     },
     "execution_count": 13,
     "metadata": {},
     "output_type": "execute_result"
    }
   ],
   "source": [
    "# 네이버로 등록된 상장사는 없습니다.\n",
    "# 잘못 입력된 텍스트에 대해 예외처리를 하는지 확인합니다.\n",
    "item_code_by_item_name(\"네이버\")"
   ]
  },
  {
   "cell_type": "code",
   "execution_count": 14,
   "metadata": {
    "id": "p8uKKoLUPwVK"
   },
   "outputs": [
    {
     "data": {
      "text/plain": [
       "'035420'"
      ]
     },
     "execution_count": 14,
     "metadata": {},
     "output_type": "execute_result"
    }
   ],
   "source": [
    "# 네이버는 NAVER로 등록되어 있습니다.\n",
    "item_code_by_item_name(\"NAVER\")"
   ]
  },
  {
   "cell_type": "code",
   "execution_count": 15,
   "metadata": {},
   "outputs": [
    {
     "data": {
      "text/plain": [
       "'005930'"
      ]
     },
     "execution_count": 15,
     "metadata": {},
     "output_type": "execute_result"
    }
   ],
   "source": [
    "# 삼성전자\n",
    "item_code_by_item_name(\"삼성전자\")"
   ]
  },
  {
   "cell_type": "code",
   "execution_count": 16,
   "metadata": {
    "id": "jMv5iz9a5HMU"
   },
   "outputs": [
    {
     "data": {
      "text/plain": [
       "'068270'"
      ]
     },
     "execution_count": 16,
     "metadata": {},
     "output_type": "execute_result"
    }
   ],
   "source": [
    "# 셀트리온과 카카오게임즈도 확인하여 봅니다.\n",
    "item_code_by_item_name(\"셀트리온\")"
   ]
  },
  {
   "cell_type": "code",
   "execution_count": 17,
   "metadata": {},
   "outputs": [
    {
     "data": {
      "text/plain": [
       "'293490'"
      ]
     },
     "execution_count": 17,
     "metadata": {},
     "output_type": "execute_result"
    }
   ],
   "source": [
    "item_code_by_item_name(\"카카오게임즈\")"
   ]
  },
  {
   "cell_type": "code",
   "execution_count": 18,
   "metadata": {},
   "outputs": [
    {
     "data": {
      "text/html": [
       "<div>\n",
       "<style scoped>\n",
       "    .dataframe tbody tr th:only-of-type {\n",
       "        vertical-align: middle;\n",
       "    }\n",
       "\n",
       "    .dataframe tbody tr th {\n",
       "        vertical-align: top;\n",
       "    }\n",
       "\n",
       "    .dataframe thead th {\n",
       "        text-align: right;\n",
       "    }\n",
       "</style>\n",
       "<table border=\"1\" class=\"dataframe\">\n",
       "  <thead>\n",
       "    <tr style=\"text-align: right;\">\n",
       "      <th></th>\n",
       "      <th>Open</th>\n",
       "      <th>High</th>\n",
       "      <th>Low</th>\n",
       "      <th>Close</th>\n",
       "      <th>Volume</th>\n",
       "      <th>Change</th>\n",
       "    </tr>\n",
       "    <tr>\n",
       "      <th>Date</th>\n",
       "      <th></th>\n",
       "      <th></th>\n",
       "      <th></th>\n",
       "      <th></th>\n",
       "      <th></th>\n",
       "      <th></th>\n",
       "    </tr>\n",
       "  </thead>\n",
       "  <tbody>\n",
       "    <tr>\n",
       "      <th>2001-04-25</th>\n",
       "      <td>20621</td>\n",
       "      <td>20621</td>\n",
       "      <td>17563</td>\n",
       "      <td>18489</td>\n",
       "      <td>3094940</td>\n",
       "      <td>NaN</td>\n",
       "    </tr>\n",
       "    <tr>\n",
       "      <th>2001-04-26</th>\n",
       "      <td>17918</td>\n",
       "      <td>18416</td>\n",
       "      <td>17492</td>\n",
       "      <td>17636</td>\n",
       "      <td>1197840</td>\n",
       "      <td>-0.046136</td>\n",
       "    </tr>\n",
       "    <tr>\n",
       "      <th>2001-04-27</th>\n",
       "      <td>17280</td>\n",
       "      <td>18204</td>\n",
       "      <td>17066</td>\n",
       "      <td>18062</td>\n",
       "      <td>854340</td>\n",
       "      <td>0.024155</td>\n",
       "    </tr>\n",
       "    <tr>\n",
       "      <th>2001-04-30</th>\n",
       "      <td>17706</td>\n",
       "      <td>18275</td>\n",
       "      <td>17706</td>\n",
       "      <td>18204</td>\n",
       "      <td>803230</td>\n",
       "      <td>0.007862</td>\n",
       "    </tr>\n",
       "    <tr>\n",
       "      <th>2001-05-02</th>\n",
       "      <td>18345</td>\n",
       "      <td>18843</td>\n",
       "      <td>17990</td>\n",
       "      <td>18489</td>\n",
       "      <td>851580</td>\n",
       "      <td>0.015656</td>\n",
       "    </tr>\n",
       "    <tr>\n",
       "      <th>...</th>\n",
       "      <td>...</td>\n",
       "      <td>...</td>\n",
       "      <td>...</td>\n",
       "      <td>...</td>\n",
       "      <td>...</td>\n",
       "      <td>...</td>\n",
       "    </tr>\n",
       "    <tr>\n",
       "      <th>2021-08-31</th>\n",
       "      <td>770000</td>\n",
       "      <td>777000</td>\n",
       "      <td>752000</td>\n",
       "      <td>758000</td>\n",
       "      <td>577128</td>\n",
       "      <td>-0.015584</td>\n",
       "    </tr>\n",
       "    <tr>\n",
       "      <th>2021-09-01</th>\n",
       "      <td>763000</td>\n",
       "      <td>766000</td>\n",
       "      <td>721000</td>\n",
       "      <td>721000</td>\n",
       "      <td>906907</td>\n",
       "      <td>-0.048813</td>\n",
       "    </tr>\n",
       "    <tr>\n",
       "      <th>2021-09-02</th>\n",
       "      <td>715000</td>\n",
       "      <td>721000</td>\n",
       "      <td>705000</td>\n",
       "      <td>711000</td>\n",
       "      <td>781458</td>\n",
       "      <td>-0.013870</td>\n",
       "    </tr>\n",
       "    <tr>\n",
       "      <th>2021-09-03</th>\n",
       "      <td>703000</td>\n",
       "      <td>726000</td>\n",
       "      <td>696000</td>\n",
       "      <td>725000</td>\n",
       "      <td>718380</td>\n",
       "      <td>0.019691</td>\n",
       "    </tr>\n",
       "    <tr>\n",
       "      <th>2021-09-06</th>\n",
       "      <td>720000</td>\n",
       "      <td>754000</td>\n",
       "      <td>717000</td>\n",
       "      <td>750000</td>\n",
       "      <td>544375</td>\n",
       "      <td>0.034483</td>\n",
       "    </tr>\n",
       "  </tbody>\n",
       "</table>\n",
       "<p>5037 rows × 6 columns</p>\n",
       "</div>"
      ],
      "text/plain": [
       "              Open    High     Low   Close   Volume    Change\n",
       "Date                                                         \n",
       "2001-04-25   20621   20621   17563   18489  3094940       NaN\n",
       "2001-04-26   17918   18416   17492   17636  1197840 -0.046136\n",
       "2001-04-27   17280   18204   17066   18062   854340  0.024155\n",
       "2001-04-30   17706   18275   17706   18204   803230  0.007862\n",
       "2001-05-02   18345   18843   17990   18489   851580  0.015656\n",
       "...            ...     ...     ...     ...      ...       ...\n",
       "2021-08-31  770000  777000  752000  758000   577128 -0.015584\n",
       "2021-09-01  763000  766000  721000  721000   906907 -0.048813\n",
       "2021-09-02  715000  721000  705000  711000   781458 -0.013870\n",
       "2021-09-03  703000  726000  696000  725000   718380  0.019691\n",
       "2021-09-06  720000  754000  717000  750000   544375  0.034483\n",
       "\n",
       "[5037 rows x 6 columns]"
      ]
     },
     "execution_count": 18,
     "metadata": {},
     "output_type": "execute_result"
    }
   ],
   "source": [
    "fdr.DataReader(item_code_by_item_name(\"LG화학\"))"
   ]
  },
  {
   "cell_type": "markdown",
   "metadata": {
    "id": "Wwe4qoor5HMU"
   },
   "source": [
    "## 종목명으로 일별시세를 받아오는 함수 만들기"
   ]
  },
  {
   "cell_type": "code",
   "execution_count": 19,
   "metadata": {
    "id": "GRQLNGdv5HMU"
   },
   "outputs": [],
   "source": [
    "# item_code_by_item_name : 종목명으로 종목번호 가져오기\n",
    "# find_item_list : 종목번호로 해당연도 데이터 가져오기\n",
    "# find_item_list는 year 값이 없으면 기본으로 2020년 데이터를 선택\n",
    "\n",
    "def find_item_list(item_name, year=2020):\n",
    "    \"\"\"\n",
    "    종목명을 넘겨주면 일별시세를 반환하는 함수\n",
    "    내부에서 종목명으로 종목코드를 반환하는 함수(item_code_by_item_name)로\n",
    "    종목의 시세를 수집합니다.\n",
    "    \"\"\"\n",
    "    item_code = item_code_by_item_name(item_name)\n",
    "    if item_code:\n",
    "        df_day = fdr.DataReader(item_code, str(year))\n",
    "        return df_day\n",
    "    else:\n",
    "        return False"
   ]
  },
  {
   "cell_type": "code",
   "execution_count": 20,
   "metadata": {},
   "outputs": [
    {
     "data": {
      "text/html": [
       "<div>\n",
       "<style scoped>\n",
       "    .dataframe tbody tr th:only-of-type {\n",
       "        vertical-align: middle;\n",
       "    }\n",
       "\n",
       "    .dataframe tbody tr th {\n",
       "        vertical-align: top;\n",
       "    }\n",
       "\n",
       "    .dataframe thead th {\n",
       "        text-align: right;\n",
       "    }\n",
       "</style>\n",
       "<table border=\"1\" class=\"dataframe\">\n",
       "  <thead>\n",
       "    <tr style=\"text-align: right;\">\n",
       "      <th></th>\n",
       "      <th>Open</th>\n",
       "      <th>High</th>\n",
       "      <th>Low</th>\n",
       "      <th>Close</th>\n",
       "      <th>Volume</th>\n",
       "      <th>Change</th>\n",
       "    </tr>\n",
       "    <tr>\n",
       "      <th>Date</th>\n",
       "      <th></th>\n",
       "      <th></th>\n",
       "      <th></th>\n",
       "      <th></th>\n",
       "      <th></th>\n",
       "      <th></th>\n",
       "    </tr>\n",
       "  </thead>\n",
       "  <tbody>\n",
       "    <tr>\n",
       "      <th>2020-01-02</th>\n",
       "      <td>187500</td>\n",
       "      <td>188000</td>\n",
       "      <td>182000</td>\n",
       "      <td>182500</td>\n",
       "      <td>300640</td>\n",
       "      <td>-0.021448</td>\n",
       "    </tr>\n",
       "    <tr>\n",
       "      <th>2020-01-03</th>\n",
       "      <td>185000</td>\n",
       "      <td>186000</td>\n",
       "      <td>180500</td>\n",
       "      <td>181500</td>\n",
       "      <td>454492</td>\n",
       "      <td>-0.005479</td>\n",
       "    </tr>\n",
       "    <tr>\n",
       "      <th>2020-01-06</th>\n",
       "      <td>180000</td>\n",
       "      <td>182000</td>\n",
       "      <td>178000</td>\n",
       "      <td>180500</td>\n",
       "      <td>287970</td>\n",
       "      <td>-0.005510</td>\n",
       "    </tr>\n",
       "    <tr>\n",
       "      <th>2020-01-07</th>\n",
       "      <td>182500</td>\n",
       "      <td>187000</td>\n",
       "      <td>181500</td>\n",
       "      <td>187000</td>\n",
       "      <td>328624</td>\n",
       "      <td>0.036011</td>\n",
       "    </tr>\n",
       "    <tr>\n",
       "      <th>2020-01-08</th>\n",
       "      <td>182000</td>\n",
       "      <td>183500</td>\n",
       "      <td>179000</td>\n",
       "      <td>183000</td>\n",
       "      <td>820867</td>\n",
       "      <td>-0.021390</td>\n",
       "    </tr>\n",
       "    <tr>\n",
       "      <th>...</th>\n",
       "      <td>...</td>\n",
       "      <td>...</td>\n",
       "      <td>...</td>\n",
       "      <td>...</td>\n",
       "      <td>...</td>\n",
       "      <td>...</td>\n",
       "    </tr>\n",
       "    <tr>\n",
       "      <th>2021-08-31</th>\n",
       "      <td>430000</td>\n",
       "      <td>439500</td>\n",
       "      <td>427000</td>\n",
       "      <td>439000</td>\n",
       "      <td>768823</td>\n",
       "      <td>0.025701</td>\n",
       "    </tr>\n",
       "    <tr>\n",
       "      <th>2021-09-01</th>\n",
       "      <td>442000</td>\n",
       "      <td>448500</td>\n",
       "      <td>436500</td>\n",
       "      <td>445000</td>\n",
       "      <td>655075</td>\n",
       "      <td>0.013667</td>\n",
       "    </tr>\n",
       "    <tr>\n",
       "      <th>2021-09-02</th>\n",
       "      <td>445500</td>\n",
       "      <td>448500</td>\n",
       "      <td>439500</td>\n",
       "      <td>442500</td>\n",
       "      <td>431529</td>\n",
       "      <td>-0.005618</td>\n",
       "    </tr>\n",
       "    <tr>\n",
       "      <th>2021-09-03</th>\n",
       "      <td>442500</td>\n",
       "      <td>452500</td>\n",
       "      <td>441000</td>\n",
       "      <td>452500</td>\n",
       "      <td>646199</td>\n",
       "      <td>0.022599</td>\n",
       "    </tr>\n",
       "    <tr>\n",
       "      <th>2021-09-06</th>\n",
       "      <td>452500</td>\n",
       "      <td>454500</td>\n",
       "      <td>445500</td>\n",
       "      <td>454000</td>\n",
       "      <td>367510</td>\n",
       "      <td>0.003315</td>\n",
       "    </tr>\n",
       "  </tbody>\n",
       "</table>\n",
       "<p>418 rows × 6 columns</p>\n",
       "</div>"
      ],
      "text/plain": [
       "              Open    High     Low   Close  Volume    Change\n",
       "Date                                                        \n",
       "2020-01-02  187500  188000  182000  182500  300640 -0.021448\n",
       "2020-01-03  185000  186000  180500  181500  454492 -0.005479\n",
       "2020-01-06  180000  182000  178000  180500  287970 -0.005510\n",
       "2020-01-07  182500  187000  181500  187000  328624  0.036011\n",
       "2020-01-08  182000  183500  179000  183000  820867 -0.021390\n",
       "...            ...     ...     ...     ...     ...       ...\n",
       "2021-08-31  430000  439500  427000  439000  768823  0.025701\n",
       "2021-09-01  442000  448500  436500  445000  655075  0.013667\n",
       "2021-09-02  445500  448500  439500  442500  431529 -0.005618\n",
       "2021-09-03  442500  452500  441000  452500  646199  0.022599\n",
       "2021-09-06  452500  454500  445500  454000  367510  0.003315\n",
       "\n",
       "[418 rows x 6 columns]"
      ]
     },
     "execution_count": 20,
     "metadata": {},
     "output_type": "execute_result"
    }
   ],
   "source": [
    "find_item_list(\"NAVER\")"
   ]
  },
  {
   "cell_type": "markdown",
   "metadata": {
    "id": "6UCk0UYn9yXR"
   },
   "source": [
    "### 종목명으로 일별 시세를 잘 가져오는지 확인하기"
   ]
  },
  {
   "cell_type": "code",
   "execution_count": 32,
   "metadata": {
    "id": "fFnQ4fR75HMU"
   },
   "outputs": [
    {
     "data": {
      "text/html": [
       "<div>\n",
       "<style scoped>\n",
       "    .dataframe tbody tr th:only-of-type {\n",
       "        vertical-align: middle;\n",
       "    }\n",
       "\n",
       "    .dataframe tbody tr th {\n",
       "        vertical-align: top;\n",
       "    }\n",
       "\n",
       "    .dataframe thead th {\n",
       "        text-align: right;\n",
       "    }\n",
       "</style>\n",
       "<table border=\"1\" class=\"dataframe\">\n",
       "  <thead>\n",
       "    <tr style=\"text-align: right;\">\n",
       "      <th></th>\n",
       "      <th>Open</th>\n",
       "      <th>High</th>\n",
       "      <th>Low</th>\n",
       "      <th>Close</th>\n",
       "      <th>Volume</th>\n",
       "      <th>Change</th>\n",
       "    </tr>\n",
       "    <tr>\n",
       "      <th>Date</th>\n",
       "      <th></th>\n",
       "      <th></th>\n",
       "      <th></th>\n",
       "      <th></th>\n",
       "      <th></th>\n",
       "      <th></th>\n",
       "    </tr>\n",
       "  </thead>\n",
       "  <tbody>\n",
       "    <tr>\n",
       "      <th>2020-01-02</th>\n",
       "      <td>30909</td>\n",
       "      <td>31010</td>\n",
       "      <td>30508</td>\n",
       "      <td>30609</td>\n",
       "      <td>241047</td>\n",
       "      <td>-0.006524</td>\n",
       "    </tr>\n",
       "    <tr>\n",
       "      <th>2020-01-03</th>\n",
       "      <td>30810</td>\n",
       "      <td>31111</td>\n",
       "      <td>30308</td>\n",
       "      <td>30609</td>\n",
       "      <td>314848</td>\n",
       "      <td>0.000000</td>\n",
       "    </tr>\n",
       "    <tr>\n",
       "      <th>2020-01-06</th>\n",
       "      <td>30206</td>\n",
       "      <td>31109</td>\n",
       "      <td>30106</td>\n",
       "      <td>31010</td>\n",
       "      <td>393715</td>\n",
       "      <td>0.013101</td>\n",
       "    </tr>\n",
       "    <tr>\n",
       "      <th>2020-01-07</th>\n",
       "      <td>31110</td>\n",
       "      <td>32113</td>\n",
       "      <td>31009</td>\n",
       "      <td>32114</td>\n",
       "      <td>840186</td>\n",
       "      <td>0.035601</td>\n",
       "    </tr>\n",
       "    <tr>\n",
       "      <th>2020-01-08</th>\n",
       "      <td>31813</td>\n",
       "      <td>32516</td>\n",
       "      <td>31412</td>\n",
       "      <td>32014</td>\n",
       "      <td>851619</td>\n",
       "      <td>-0.003114</td>\n",
       "    </tr>\n",
       "    <tr>\n",
       "      <th>...</th>\n",
       "      <td>...</td>\n",
       "      <td>...</td>\n",
       "      <td>...</td>\n",
       "      <td>...</td>\n",
       "      <td>...</td>\n",
       "      <td>...</td>\n",
       "    </tr>\n",
       "    <tr>\n",
       "      <th>2021-08-31</th>\n",
       "      <td>152500</td>\n",
       "      <td>155000</td>\n",
       "      <td>151000</td>\n",
       "      <td>155000</td>\n",
       "      <td>3078357</td>\n",
       "      <td>0.023102</td>\n",
       "    </tr>\n",
       "    <tr>\n",
       "      <th>2021-09-01</th>\n",
       "      <td>155000</td>\n",
       "      <td>156000</td>\n",
       "      <td>154000</td>\n",
       "      <td>154000</td>\n",
       "      <td>2011434</td>\n",
       "      <td>-0.006452</td>\n",
       "    </tr>\n",
       "    <tr>\n",
       "      <th>2021-09-02</th>\n",
       "      <td>154500</td>\n",
       "      <td>156000</td>\n",
       "      <td>153500</td>\n",
       "      <td>155000</td>\n",
       "      <td>1649156</td>\n",
       "      <td>0.006494</td>\n",
       "    </tr>\n",
       "    <tr>\n",
       "      <th>2021-09-03</th>\n",
       "      <td>155500</td>\n",
       "      <td>157500</td>\n",
       "      <td>154500</td>\n",
       "      <td>156500</td>\n",
       "      <td>1934669</td>\n",
       "      <td>0.009677</td>\n",
       "    </tr>\n",
       "    <tr>\n",
       "      <th>2021-09-06</th>\n",
       "      <td>156000</td>\n",
       "      <td>156500</td>\n",
       "      <td>152500</td>\n",
       "      <td>155500</td>\n",
       "      <td>1875195</td>\n",
       "      <td>-0.006390</td>\n",
       "    </tr>\n",
       "  </tbody>\n",
       "</table>\n",
       "<p>418 rows × 6 columns</p>\n",
       "</div>"
      ],
      "text/plain": [
       "              Open    High     Low   Close   Volume    Change\n",
       "Date                                                         \n",
       "2020-01-02   30909   31010   30508   30609   241047 -0.006524\n",
       "2020-01-03   30810   31111   30308   30609   314848  0.000000\n",
       "2020-01-06   30206   31109   30106   31010   393715  0.013101\n",
       "2020-01-07   31110   32113   31009   32114   840186  0.035601\n",
       "2020-01-08   31813   32516   31412   32014   851619 -0.003114\n",
       "...            ...     ...     ...     ...      ...       ...\n",
       "2021-08-31  152500  155000  151000  155000  3078357  0.023102\n",
       "2021-09-01  155000  156000  154000  154000  2011434 -0.006452\n",
       "2021-09-02  154500  156000  153500  155000  1649156  0.006494\n",
       "2021-09-03  155500  157500  154500  156500  1934669  0.009677\n",
       "2021-09-06  156000  156500  152500  155500  1875195 -0.006390\n",
       "\n",
       "[418 rows x 6 columns]"
      ]
     },
     "execution_count": 32,
     "metadata": {},
     "output_type": "execute_result"
    }
   ],
   "source": [
    "# LG화학의 데이터를 가져옵니다.\n",
    "find_item_list(\"카카오\")"
   ]
  },
  {
   "cell_type": "code",
   "execution_count": 22,
   "metadata": {
    "id": "r93FJRnk5HMU"
   },
   "outputs": [
    {
     "data": {
      "text/html": [
       "<div>\n",
       "<style scoped>\n",
       "    .dataframe tbody tr th:only-of-type {\n",
       "        vertical-align: middle;\n",
       "    }\n",
       "\n",
       "    .dataframe tbody tr th {\n",
       "        vertical-align: top;\n",
       "    }\n",
       "\n",
       "    .dataframe thead th {\n",
       "        text-align: right;\n",
       "    }\n",
       "</style>\n",
       "<table border=\"1\" class=\"dataframe\">\n",
       "  <thead>\n",
       "    <tr style=\"text-align: right;\">\n",
       "      <th></th>\n",
       "      <th>Open</th>\n",
       "      <th>High</th>\n",
       "      <th>Low</th>\n",
       "      <th>Close</th>\n",
       "      <th>Volume</th>\n",
       "      <th>Change</th>\n",
       "    </tr>\n",
       "    <tr>\n",
       "      <th>Date</th>\n",
       "      <th></th>\n",
       "      <th></th>\n",
       "      <th></th>\n",
       "      <th></th>\n",
       "      <th></th>\n",
       "      <th></th>\n",
       "    </tr>\n",
       "  </thead>\n",
       "  <tbody>\n",
       "    <tr>\n",
       "      <th>2020-10-15</th>\n",
       "      <td>267300</td>\n",
       "      <td>347490</td>\n",
       "      <td>250965</td>\n",
       "      <td>255420</td>\n",
       "      <td>6557212</td>\n",
       "      <td>NaN</td>\n",
       "    </tr>\n",
       "    <tr>\n",
       "      <th>2020-10-16</th>\n",
       "      <td>250469</td>\n",
       "      <td>250469</td>\n",
       "      <td>197010</td>\n",
       "      <td>198495</td>\n",
       "      <td>4504395</td>\n",
       "      <td>-0.222868</td>\n",
       "    </tr>\n",
       "    <tr>\n",
       "      <th>2020-10-19</th>\n",
       "      <td>196515</td>\n",
       "      <td>200475</td>\n",
       "      <td>185129</td>\n",
       "      <td>187110</td>\n",
       "      <td>1977996</td>\n",
       "      <td>-0.057357</td>\n",
       "    </tr>\n",
       "    <tr>\n",
       "      <th>2020-10-20</th>\n",
       "      <td>188100</td>\n",
       "      <td>191565</td>\n",
       "      <td>174240</td>\n",
       "      <td>180675</td>\n",
       "      <td>1811616</td>\n",
       "      <td>-0.034392</td>\n",
       "    </tr>\n",
       "    <tr>\n",
       "      <th>2020-10-21</th>\n",
       "      <td>178695</td>\n",
       "      <td>183645</td>\n",
       "      <td>175230</td>\n",
       "      <td>177210</td>\n",
       "      <td>1658643</td>\n",
       "      <td>-0.019178</td>\n",
       "    </tr>\n",
       "    <tr>\n",
       "      <th>...</th>\n",
       "      <td>...</td>\n",
       "      <td>...</td>\n",
       "      <td>...</td>\n",
       "      <td>...</td>\n",
       "      <td>...</td>\n",
       "      <td>...</td>\n",
       "    </tr>\n",
       "    <tr>\n",
       "      <th>2021-08-31</th>\n",
       "      <td>286500</td>\n",
       "      <td>290500</td>\n",
       "      <td>280500</td>\n",
       "      <td>289500</td>\n",
       "      <td>185294</td>\n",
       "      <td>0.012238</td>\n",
       "    </tr>\n",
       "    <tr>\n",
       "      <th>2021-09-01</th>\n",
       "      <td>288500</td>\n",
       "      <td>291000</td>\n",
       "      <td>285000</td>\n",
       "      <td>286000</td>\n",
       "      <td>98641</td>\n",
       "      <td>-0.012090</td>\n",
       "    </tr>\n",
       "    <tr>\n",
       "      <th>2021-09-02</th>\n",
       "      <td>287000</td>\n",
       "      <td>287000</td>\n",
       "      <td>280500</td>\n",
       "      <td>280500</td>\n",
       "      <td>125291</td>\n",
       "      <td>-0.019231</td>\n",
       "    </tr>\n",
       "    <tr>\n",
       "      <th>2021-09-03</th>\n",
       "      <td>284500</td>\n",
       "      <td>284500</td>\n",
       "      <td>279500</td>\n",
       "      <td>281000</td>\n",
       "      <td>115176</td>\n",
       "      <td>0.001783</td>\n",
       "    </tr>\n",
       "    <tr>\n",
       "      <th>2021-09-06</th>\n",
       "      <td>280500</td>\n",
       "      <td>288000</td>\n",
       "      <td>279500</td>\n",
       "      <td>286500</td>\n",
       "      <td>128925</td>\n",
       "      <td>0.019573</td>\n",
       "    </tr>\n",
       "  </tbody>\n",
       "</table>\n",
       "<p>224 rows × 6 columns</p>\n",
       "</div>"
      ],
      "text/plain": [
       "              Open    High     Low   Close   Volume    Change\n",
       "Date                                                         \n",
       "2020-10-15  267300  347490  250965  255420  6557212       NaN\n",
       "2020-10-16  250469  250469  197010  198495  4504395 -0.222868\n",
       "2020-10-19  196515  200475  185129  187110  1977996 -0.057357\n",
       "2020-10-20  188100  191565  174240  180675  1811616 -0.034392\n",
       "2020-10-21  178695  183645  175230  177210  1658643 -0.019178\n",
       "...            ...     ...     ...     ...      ...       ...\n",
       "2021-08-31  286500  290500  280500  289500   185294  0.012238\n",
       "2021-09-01  288500  291000  285000  286000    98641 -0.012090\n",
       "2021-09-02  287000  287000  280500  280500   125291 -0.019231\n",
       "2021-09-03  284500  284500  279500  281000   115176  0.001783\n",
       "2021-09-06  280500  288000  279500  286500   128925  0.019573\n",
       "\n",
       "[224 rows x 6 columns]"
      ]
     },
     "execution_count": 22,
     "metadata": {},
     "output_type": "execute_result"
    }
   ],
   "source": [
    "# 빅히트의 데이터를 가져옵니다.\n",
    "# stock_daily 변수에 담습니다.\n",
    "stock_daily = find_item_list(\"하이브\")\n",
    "stock_daily"
   ]
  },
  {
   "cell_type": "markdown",
   "metadata": {},
   "source": [
    "## 개별종목 시세 시각화\n",
    "### pandas 의 plot으로 시각화 하기"
   ]
  },
  {
   "cell_type": "code",
   "execution_count": 23,
   "metadata": {},
   "outputs": [
    {
     "data": {
      "text/plain": [
       "<AxesSubplot:xlabel='Date'>"
      ]
     },
     "execution_count": 23,
     "metadata": {},
     "output_type": "execute_result"
    },
    {
     "data": {
      "image/png": "[encoded data removed]",
      "text/plain": [
       "<Figure size 432x288 with 1 Axes>"
      ]
     },
     "metadata": {
      "needs_background": "light"
     },
     "output_type": "display_data"
    }
   ],
   "source": [
    "# stock_daily 변수에 할당된 수집된 데이터의 종가 그래프를 그립니다.\n",
    "stock_daily[\"Close\"].plot()"
   ]
  },
  {
   "cell_type": "code",
   "execution_count": 24,
   "metadata": {},
   "outputs": [
    {
     "data": {
      "text/plain": [
       "<AxesSubplot:xlabel='Date'>"
      ]
     },
     "execution_count": 24,
     "metadata": {},
     "output_type": "execute_result"
    },
    {
     "data": {
      "image/png": "[encoded data removed]",
      "text/plain": [
       "<Figure size 432x288 with 1 Axes>"
      ]
     },
     "metadata": {
      "needs_background": "light"
     },
     "output_type": "display_data"
    }
   ],
   "source": [
    "# 전체 데이터프레임을 plot() 으로 시각화 하면 수치 데이터 전체를 선그래프로 그립니다.\n",
    "stock_daily.plot()"
   ]
  },
  {
   "cell_type": "markdown",
   "metadata": {},
   "source": [
    "### 서브플롯 그리기"
   ]
  },
  {
   "cell_type": "code",
   "execution_count": 25,
   "metadata": {
    "id": "0TThx3Vq5HMU"
   },
   "outputs": [
    {
     "data": {
      "image/png": "[encoded data removed]",
      "text/plain": [
       "<Figure size 1152x576 with 6 Axes>"
      ]
     },
     "metadata": {
      "needs_background": "light"
     },
     "output_type": "display_data"
    }
   ],
   "source": [
    "# 수집한 종목의 선그래프를 Pandas 로 그립니다.\n",
    "# 스케일이 다르기 때문에 subplots를 사용해 그려봅니다.\n",
    "g = stock_daily.plot(subplots=True, figsize=(16, 8))"
   ]
  },
  {
   "cell_type": "code",
   "execution_count": 26,
   "metadata": {},
   "outputs": [
    {
     "data": {
      "image/png": "[encoded data removed]",
      "text/plain": [
       "<Figure size 1152x576 with 6 Axes>"
      ]
     },
     "metadata": {
      "needs_background": "light"
     },
     "output_type": "display_data"
    }
   ],
   "source": [
    "# 히스토그램 그리기\n",
    "# 주가의 변화율은 정규분포를 따른다.\n",
    "h = stock_daily.hist(figsize=(16, 8), bins=50)"
   ]
  },
  {
   "cell_type": "markdown",
   "metadata": {},
   "source": [
    "### 2축 그래프 그리기"
   ]
  },
  {
   "cell_type": "code",
   "execution_count": 27,
   "metadata": {},
   "outputs": [
    {
     "data": {
      "text/plain": [
       "<AxesSubplot:xlabel='Date'>"
      ]
     },
     "execution_count": 27,
     "metadata": {},
     "output_type": "execute_result"
    },
    {
     "data": {
      "image/png": "[encoded data removed]",
      "text/plain": [
       "<Figure size 432x288 with 2 Axes>"
      ]
     },
     "metadata": {
      "needs_background": "light"
     },
     "output_type": "display_data"
    }
   ],
   "source": [
    "# secondary_y 옵션을 통한 종가와 거래량에 대한 2축 그래프 그리기\n",
    "stock_daily[[\"Close\", \"Volume\"]].plot(secondary_y=\"Volume\")"
   ]
  },
  {
   "cell_type": "markdown",
   "metadata": {},
   "source": [
    "### 과학적 기수법\n",
    "* 참고 : E notation\n",
    "[과학적 기수법 - 위키백과, 우리 모두의 백과사전](https://ko.wikipedia.org/wiki/%EA%B3%BC%ED%95%99%EC%A0%81_%EA%B8%B0%EC%88%98%EB%B2%95)\n",
    "\n",
    "과학적 기수법, 과학적 표기법(scientific notation, scientific form, standard index form, standard form)은 너무 크거나 너무 작은 숫자들을 십진법으로 편하게 작성하여 표현하는 방법이다. 과학자, 수학자, 공학자들이 공통적으로 사용하는데, 부분적인 이유는 특정한 산술을 단순화시켜 주기 때문이다. 과학 계산기에서는 \"SCI\" 디스플레이 모드라는 이름으로 알려져 있다."
   ]
  },
  {
   "cell_type": "code",
   "execution_count": 28,
   "metadata": {},
   "outputs": [
    {
     "data": {
      "text/plain": [
       "'1,000,000.0'"
      ]
     },
     "execution_count": 28,
     "metadata": {},
     "output_type": "execute_result"
    }
   ],
   "source": [
    "format(1e+6, \",\")"
   ]
  },
  {
   "cell_type": "code",
   "execution_count": 29,
   "metadata": {},
   "outputs": [
    {
     "data": {
      "text/plain": [
       "'1,000,000'"
      ]
     },
     "execution_count": 29,
     "metadata": {},
     "output_type": "execute_result"
    }
   ],
   "source": [
    "format(10**6,\",\")"
   ]
  },
  {
   "cell_type": "code",
   "execution_count": 30,
   "metadata": {},
   "outputs": [
    {
     "data": {
      "text/html": [
       "<div>\n",
       "<style scoped>\n",
       "    .dataframe tbody tr th:only-of-type {\n",
       "        vertical-align: middle;\n",
       "    }\n",
       "\n",
       "    .dataframe tbody tr th {\n",
       "        vertical-align: top;\n",
       "    }\n",
       "\n",
       "    .dataframe thead th {\n",
       "        text-align: right;\n",
       "    }\n",
       "</style>\n",
       "<table border=\"1\" class=\"dataframe\">\n",
       "  <thead>\n",
       "    <tr style=\"text-align: right;\">\n",
       "      <th></th>\n",
       "      <th>Open</th>\n",
       "      <th>High</th>\n",
       "      <th>Low</th>\n",
       "      <th>Close</th>\n",
       "      <th>Volume</th>\n",
       "      <th>Change</th>\n",
       "    </tr>\n",
       "  </thead>\n",
       "  <tbody>\n",
       "    <tr>\n",
       "      <th>count</th>\n",
       "      <td>224.000000</td>\n",
       "      <td>224.000000</td>\n",
       "      <td>224.000000</td>\n",
       "      <td>224.000000</td>\n",
       "      <td>2.240000e+02</td>\n",
       "      <td>223.000000</td>\n",
       "    </tr>\n",
       "    <tr>\n",
       "      <th>mean</th>\n",
       "      <td>233868.687500</td>\n",
       "      <td>239574.107143</td>\n",
       "      <td>228527.540179</td>\n",
       "      <td>233343.258929</td>\n",
       "      <td>5.112139e+05</td>\n",
       "      <td>0.001209</td>\n",
       "    </tr>\n",
       "    <tr>\n",
       "      <th>std</th>\n",
       "      <td>52831.462422</td>\n",
       "      <td>53566.969293</td>\n",
       "      <td>52279.238165</td>\n",
       "      <td>52655.611066</td>\n",
       "      <td>6.941543e+05</td>\n",
       "      <td>0.036935</td>\n",
       "    </tr>\n",
       "    <tr>\n",
       "      <th>min</th>\n",
       "      <td>141075.000000</td>\n",
       "      <td>145035.000000</td>\n",
       "      <td>139590.000000</td>\n",
       "      <td>140580.000000</td>\n",
       "      <td>9.056300e+04</td>\n",
       "      <td>-0.222868</td>\n",
       "    </tr>\n",
       "    <tr>\n",
       "      <th>25%</th>\n",
       "      <td>180551.250000</td>\n",
       "      <td>183150.000000</td>\n",
       "      <td>175972.500000</td>\n",
       "      <td>179190.000000</td>\n",
       "      <td>1.957100e+05</td>\n",
       "      <td>-0.018112</td>\n",
       "    </tr>\n",
       "    <tr>\n",
       "      <th>50%</th>\n",
       "      <td>241032.500000</td>\n",
       "      <td>246007.500000</td>\n",
       "      <td>234000.000000</td>\n",
       "      <td>240287.500000</td>\n",
       "      <td>3.253385e+05</td>\n",
       "      <td>0.002062</td>\n",
       "    </tr>\n",
       "    <tr>\n",
       "      <th>75%</th>\n",
       "      <td>284125.000000</td>\n",
       "      <td>288000.000000</td>\n",
       "      <td>279500.000000</td>\n",
       "      <td>282375.000000</td>\n",
       "      <td>5.214348e+05</td>\n",
       "      <td>0.016930</td>\n",
       "    </tr>\n",
       "    <tr>\n",
       "      <th>max</th>\n",
       "      <td>334500.000000</td>\n",
       "      <td>347490.000000</td>\n",
       "      <td>318500.000000</td>\n",
       "      <td>324500.000000</td>\n",
       "      <td>6.557212e+06</td>\n",
       "      <td>0.112717</td>\n",
       "    </tr>\n",
       "  </tbody>\n",
       "</table>\n",
       "</div>"
      ],
      "text/plain": [
       "                Open           High            Low          Close  \\\n",
       "count     224.000000     224.000000     224.000000     224.000000   \n",
       "mean   233868.687500  239574.107143  228527.540179  233343.258929   \n",
       "std     52831.462422   53566.969293   52279.238165   52655.611066   \n",
       "min    141075.000000  145035.000000  139590.000000  140580.000000   \n",
       "25%    180551.250000  183150.000000  175972.500000  179190.000000   \n",
       "50%    241032.500000  246007.500000  234000.000000  240287.500000   \n",
       "75%    284125.000000  288000.000000  279500.000000  282375.000000   \n",
       "max    334500.000000  347490.000000  318500.000000  324500.000000   \n",
       "\n",
       "             Volume      Change  \n",
       "count  2.240000e+02  223.000000  \n",
       "mean   5.112139e+05    0.001209  \n",
       "std    6.941543e+05    0.036935  \n",
       "min    9.056300e+04   -0.222868  \n",
       "25%    1.957100e+05   -0.018112  \n",
       "50%    3.253385e+05    0.002062  \n",
       "75%    5.214348e+05    0.016930  \n",
       "max    6.557212e+06    0.112717  "
      ]
     },
     "execution_count": 30,
     "metadata": {},
     "output_type": "execute_result"
    }
   ],
   "source": [
    "stock_daily.describe()"
   ]
  },
  {
   "cell_type": "code",
   "execution_count": null,
   "metadata": {},
   "outputs": [],
   "source": []
  }
 ],
 "metadata": {
  "colab": {
   "collapsed_sections": [],
   "name": "2. FinanceDataReader를 통한 개별종목 수집하기.ipynb",
   "provenance": []
  },
  "kernelspec": {
   "display_name": "Python 3",
   "language": "python",
   "name": "python3"
  },
  "language_info": {
   "codemirror_mode": {
    "name": "ipython",
    "version": 3
   },
   "file_extension": ".py",
   "mimetype": "text/x-python",
   "name": "python",
   "nbconvert_exporter": "python",
   "pygments_lexer": "ipython3",
   "version": "3.8.5"
  },
  "toc": {
   "base_numbering": 1,
   "nav_menu": {},
   "number_sections": true,
   "sideBar": true,
   "skip_h1_title": false,
   "title_cell": "Table of Contents",
   "title_sidebar": "Contents",
   "toc_cell": false,
   "toc_position": {
    "height": "calc(100% - 180px)",
    "left": "10px",
    "top": "150px",
    "width": "256px"
   },
   "toc_section_display": true,
   "toc_window_display": true
  },
  "varInspector": {
   "cols": {
    "lenName": 16,
    "lenType": 16,
    "lenVar": 40
   },
   "kernels_config": {
    "python": {
     "delete_cmd_postfix": "",
     "delete_cmd_prefix": "del ",
     "library": "var_list.py",
     "varRefreshCmd": "print(var_dic_list())"
    },
    "r": {
     "delete_cmd_postfix": ") ",
     "delete_cmd_prefix": "rm(",
     "library": "var_list.r",
     "varRefreshCmd": "cat(var_dic_list()) "
    }
   },
   "types_to_exclude": [
    "module",
    "function",
    "builtin_function_or_method",
    "instance",
    "_Feature"
   ],
   "window_display": false
  }
 },
 "nbformat": 4,
 "nbformat_minor": 4
}
